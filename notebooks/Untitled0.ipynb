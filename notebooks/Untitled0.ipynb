{
 "metadata": {
  "name": "",
  "signature": "sha256:37ada891b8a64dc0384c363de82778ceb05f9d4849ce3e2f3088934b3ffa9698"
 },
 "nbformat": 3,
 "nbformat_minor": 0,
 "worksheets": [
  {
   "cells": [
    {
     "cell_type": "code",
     "collapsed": false,
     "input": [
      "from pandas import DataFrame\n",
      "import urllib2\n",
      "import json\n",
      "import urlparse\n",
      "import cgi\n",
      "import cgitb\n",
      "cgitb.enable() # helps troubleshoot cgi\n",
      "import matplotlib\n",
      "import matplotlib.pyplot as plt, mpld3 # plotting"
     ],
     "language": "python",
     "metadata": {},
     "outputs": [],
     "prompt_number": 7
    },
    {
     "cell_type": "code",
     "collapsed": false,
     "input": [
      "form = cgi.FieldStorage()\n",
      "season_code = form.getvalue(\"season_code\",\"00214\")\n",
      "gamenum = form.getvalue(\"gamenum\",\"1\").zfill(5)\n",
      "gameid = season_code + gamenum"
     ],
     "language": "python",
     "metadata": {},
     "outputs": [],
     "prompt_number": 5
    },
    {
     "cell_type": "code",
     "collapsed": false,
     "input": [
      "# Load appropriate JSON file, print to HTML table\n",
      "j = json.loads(urllib2.urlopen('http://neurocoding.info/data/json/shots_' + gameid + '.json').read())\n",
      "df = DataFrame(j['rowSet'])\n",
      "df.columns = j['headers']\n",
      "#xs,ys,made = df.LOC_X,df.LOC_Y,df.SHOT_MADE_FLAG\n",
      "xs,ys,made = df.LOC_X[0:10],df.LOC_Y[0:10],df.SHOT_MADE_FLAG[0:10]"
     ],
     "language": "python",
     "metadata": {},
     "outputs": [],
     "prompt_number": 9
    },
    {
     "cell_type": "code",
     "collapsed": false,
     "input": [
      "mpld3.enable_notebook()\n",
      "for i in range(0,len(xs)):\n",
      "  if made[i]:\n",
      "    plt.text(xs[i],ys[i], 'o')\n",
      "  else:\n",
      "    plt.text(xs[i],ys[i], 'x')\n",
      "plt.show()\n",
      "mpld3.display()\n",
      "\n"
     ],
     "language": "python",
     "metadata": {},
     "outputs": []
    },
    {
     "cell_type": "code",
     "collapsed": false,
     "input": [],
     "language": "python",
     "metadata": {},
     "outputs": []
    }
   ],
   "metadata": {}
  }
 ]
}