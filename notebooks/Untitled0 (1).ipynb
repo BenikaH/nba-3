{
 "metadata": {
  "name": "",
  "signature": "sha256:2e59b843eef5840211a298e43c3b4128f3d0b5d13ec9630ad0f610f777ca1229"
 },
 "nbformat": 3,
 "nbformat_minor": 0,
 "worksheets": [
  {
   "cells": [
    {
     "cell_type": "code",
     "collapsed": false,
     "input": [
      "from pandas import DataFrame\n",
      "import urllib2\n",
      "import json\n",
      "import urlparse\n",
      "import cgi\n",
      "import cgitb\n",
      "cgitb.enable() # helps troubleshoot cgi\n",
      "import matplotlib\n",
      "import matplotlib.pyplot as plt, mpld3 # plotting"
     ],
     "language": "python",
     "metadata": {},
     "outputs": [],
     "prompt_number": 1
    },
    {
     "cell_type": "code",
     "collapsed": false,
     "input": [
      "form = cgi.FieldStorage()\n",
      "season_code = form.getvalue(\"season_code\",\"00214\")\n",
      "gamenum = form.getvalue(\"gamenum\",\"1\").zfill(5)\n",
      "gameid = season_code + gamenum"
     ],
     "language": "python",
     "metadata": {},
     "outputs": [],
     "prompt_number": 2
    },
    {
     "cell_type": "code",
     "collapsed": false,
     "input": [
      "# Load appropriate JSON file, print to HTML table\n",
      "j = json.loads(urllib2.urlopen('http://neurocoding.info/data/json/shots_' + gameid + '.json').read())\n",
      "df = DataFrame(j['rowSet'])\n",
      "df.columns = j['headers']\n",
      "#xs,ys,made = df.LOC_X,df.LOC_Y,df.SHOT_MADE_FLAG\n",
      "xs,ys,made = df.LOC_X[0:10],df.LOC_Y[0:10],df.SHOT_MADE_FLAG[0:10]"
     ],
     "language": "python",
     "metadata": {},
     "outputs": [],
     "prompt_number": 3
    },
    {
     "cell_type": "code",
     "collapsed": false,
     "input": [
      "mpld3.enable_notebook()\n",
      "for i in range(0,len(xs)):\n",
      "  if made[i]:\n",
      "    plt.text(xs[i],ys[i], 'o')\n",
      "  else:\n",
      "    plt.text(xs[i],ys[i], 'x')\n",
      "plt.show()\n",
      "mpld3.display()\n",
      "\n"
     ],
     "language": "python",
     "metadata": {},
     "outputs": [
      {
       "html": [
        "\n",
        "\n",
        "<style>\n",
        "\n",
        "</style>\n",
        "\n",
        "<div id=\"fig_el127661399977053595044843363832\"></div>\n",
        "<script>\n",
        "function mpld3_load_lib(url, callback){\n",
        "  var s = document.createElement('script');\n",
        "  s.src = url;\n",
        "  s.async = true;\n",
        "  s.onreadystatechange = s.onload = callback;\n",
        "  s.onerror = function(){console.warn(\"failed to load library \" + url);};\n",
        "  document.getElementsByTagName(\"head\")[0].appendChild(s);\n",
        "}\n",
        "\n",
        "if(typeof(mpld3) !== \"undefined\" && mpld3._mpld3IsLoaded){\n",
        "   // already loaded: just create the figure\n",
        "   !function(mpld3){\n",
        "       \n",
        "       mpld3.draw_figure(\"fig_el127661399977053595044843363832\", {\"axes\": [], \"height\": 480.0, \"width\": 640.0, \"plugins\": [{\"type\": \"reset\"}, {\"enabled\": false, \"button\": true, \"type\": \"zoom\"}, {\"enabled\": false, \"button\": true, \"type\": \"boxzoom\"}], \"data\": {}, \"id\": \"el12766139997705359504\"});\n",
        "   }(mpld3);\n",
        "}else if(typeof define === \"function\" && define.amd){\n",
        "   // require.js is available: use it to load d3/mpld3\n",
        "   require.config({paths: {d3: \"https://mpld3.github.io/js/d3.v3.min\"}});\n",
        "   require([\"d3\"], function(d3){\n",
        "      window.d3 = d3;\n",
        "      mpld3_load_lib(\"https://mpld3.github.io/js/mpld3.v0.2.js\", function(){\n",
        "         \n",
        "         mpld3.draw_figure(\"fig_el127661399977053595044843363832\", {\"axes\": [], \"height\": 480.0, \"width\": 640.0, \"plugins\": [{\"type\": \"reset\"}, {\"enabled\": false, \"button\": true, \"type\": \"zoom\"}, {\"enabled\": false, \"button\": true, \"type\": \"boxzoom\"}], \"data\": {}, \"id\": \"el12766139997705359504\"});\n",
        "      });\n",
        "    });\n",
        "}else{\n",
        "    // require.js not available: dynamically load d3 & mpld3\n",
        "    mpld3_load_lib(\"https://mpld3.github.io/js/d3.v3.min.js\", function(){\n",
        "         mpld3_load_lib(\"https://mpld3.github.io/js/mpld3.v0.2.js\", function(){\n",
        "                 \n",
        "                 mpld3.draw_figure(\"fig_el127661399977053595044843363832\", {\"axes\": [], \"height\": 480.0, \"width\": 640.0, \"plugins\": [{\"type\": \"reset\"}, {\"enabled\": false, \"button\": true, \"type\": \"zoom\"}, {\"enabled\": false, \"button\": true, \"type\": \"boxzoom\"}], \"data\": {}, \"id\": \"el12766139997705359504\"});\n",
        "            })\n",
        "         });\n",
        "}\n",
        "</script>"
       ],
       "metadata": {},
       "output_type": "pyout",
       "prompt_number": 4,
       "text": [
        "<IPython.core.display.HTML at 0x7f53c16a7ad0>"
       ]
      }
     ],
     "prompt_number": 4
    },
    {
     "cell_type": "code",
     "collapsed": false,
     "input": [],
     "language": "python",
     "metadata": {},
     "outputs": [
      {
       "output_type": "stream",
       "stream": "stdout",
       "text": [
        "fdsa\n"
       ]
      }
     ],
     "prompt_number": 12
    },
    {
     "cell_type": "code",
     "collapsed": false,
     "input": [],
     "language": "python",
     "metadata": {},
     "outputs": []
    }
   ],
   "metadata": {}
  }
 ]
}